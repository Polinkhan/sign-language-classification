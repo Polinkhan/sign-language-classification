{
 "cells": [
  {
   "cell_type": "code",
   "execution_count": null,
   "metadata": {},
   "outputs": [],
   "source": [
    "import torch\n",
    "from ultralytics import YOLO\n",
    "\n",
    "if __name__ == '__main__':\n",
    "    torch.cuda.empty_cache()\n",
    "\n",
    "    model = YOLO('yolov8n.yaml').load('yolov8n.pt')\n",
    "    model.to('cuda')\n",
    "\n",
    "    data_yaml_path = 'Data/detection/custom.yaml'\n",
    "    \n",
    "    results = model.train(data=data_yaml_path, epochs=10, imgsz=640, lrf=0.0001)"
   ]
  }
 ],
 "metadata": {
  "language_info": {
   "name": "python"
  }
 },
 "nbformat": 4,
 "nbformat_minor": 2
}
