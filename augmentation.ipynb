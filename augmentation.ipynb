{
 "cells": [
  {
   "cell_type": "markdown",
   "metadata": {},
   "source": [
    "# Import modules"
   ]
  },
  {
   "cell_type": "code",
   "execution_count": 10,
   "metadata": {},
   "outputs": [],
   "source": [
    "from os import path\n",
    "import os, cv2, numpy as np\n",
    "import matplotlib.pyplot as plt"
   ]
  },
  {
   "cell_type": "markdown",
   "metadata": {},
   "source": [
    "# Augmentation"
   ]
  },
  {
   "cell_type": "markdown",
   "metadata": {},
   "source": [
    "### Paths"
   ]
  },
  {
   "cell_type": "code",
   "execution_count": 11,
   "metadata": {},
   "outputs": [],
   "source": [
    "dataset_dir = path.join(os.getcwd(), 'custom_dataset')\n",
    "augmented_dataset_dir = path.join(os.getcwd(), 'augmented_dataset')"
   ]
  },
  {
   "cell_type": "markdown",
   "metadata": {},
   "source": [
    "### Check if all the classes exists"
   ]
  },
  {
   "cell_type": "code",
   "execution_count": 29,
   "metadata": {},
   "outputs": [],
   "source": [
    "def check_dir():\n",
    "    for _class in os.listdir(dataset_dir):\n",
    "        augmented_class_path = path.join(augmented_dataset_dir, _class)\n",
    "        if(path.exists(augmented_class_path) == False):\n",
    "            os.mkdir(augmented_class_path)"
   ]
  },
  {
   "cell_type": "markdown",
   "metadata": {},
   "source": [
    "### Flipping the img to sidewise"
   ]
  },
  {
   "cell_type": "code",
   "execution_count": 13,
   "metadata": {},
   "outputs": [],
   "source": [
    "for _class in os.listdir(dataset_dir):\n",
    "    current_dir = path.join(dataset_dir, _class)\n",
    "    augmented_dir = path.join(augmented_dataset_dir, _class)\n",
    "    for image in os.listdir(current_dir):\n",
    "        image_path = path.join(current_dir, image)\n",
    "        src = cv2.imread(image_path)\n",
    "        flipped_image = cv2.flip(src, 1)\n",
    "\n",
    "        filename = os.path.join(augmented_dir, 'h_flip_'+image)\n",
    "        cv2.imwrite(filename, flipped_image)"
   ]
  },
  {
   "cell_type": "markdown",
   "metadata": {},
   "source": [
    "### Changes the brightness & contrast"
   ]
  },
  {
   "cell_type": "code",
   "execution_count": 31,
   "metadata": {},
   "outputs": [],
   "source": [
    "check_dir()\n",
    "for _class in os.listdir(dataset_dir):\n",
    "    current_dir = path.join(dataset_dir, _class)\n",
    "    augmented_dir = path.join(augmented_dataset_dir, _class)\n",
    "    for image in os.listdir(current_dir):\n",
    "        image_path = path.join(current_dir, image)\n",
    "        src = cv2.imread(image_path)\n",
    "\n",
    "        low_alpha = 0.5 # Contrast control\n",
    "        low_beta = 0 # Brightness control\n",
    "\n",
    "        high_alpha = 1.35 # Contrast control\n",
    "        high_beta = 10 # Brightness control\n",
    "\n",
    "        low_contrast_img = cv2.convertScaleAbs(src, alpha=low_alpha, beta=low_beta)\n",
    "        high_contrast_img = cv2.convertScaleAbs(src, alpha=high_alpha, beta=high_beta)\n",
    "\n",
    "        filename = os.path.join(augmented_dir, 'low_contrast_'+image)\n",
    "        cv2.imwrite(filename, low_contrast_img)\n",
    "        filename = os.path.join(augmented_dir, 'high_contrast_'+image)\n",
    "        cv2.imwrite(filename, high_contrast_img)"
   ]
  },
  {
   "cell_type": "markdown",
   "metadata": {},
   "source": [
    "### Move every generated image"
   ]
  },
  {
   "cell_type": "code",
   "execution_count": 32,
   "metadata": {},
   "outputs": [],
   "source": [
    "for _class in os.listdir(augmented_dataset_dir):\n",
    "    current_dir = path.join(augmented_dataset_dir, _class)\n",
    "    custom_dataset_dir = path.join(dataset_dir, _class)\n",
    "    for image in os.listdir(current_dir):\n",
    "        src_path = path.join(current_dir, image)\n",
    "        dst_path = path.join(custom_dataset_dir, image)\n",
    "        os.replace(src_path, dst_path)"
   ]
  }
 ],
 "metadata": {
  "kernelspec": {
   "display_name": "ml",
   "language": "python",
   "name": "python3"
  },
  "language_info": {
   "codemirror_mode": {
    "name": "ipython",
    "version": 3
   },
   "file_extension": ".py",
   "mimetype": "text/x-python",
   "name": "python",
   "nbconvert_exporter": "python",
   "pygments_lexer": "ipython3",
   "version": "3.12.4"
  }
 },
 "nbformat": 4,
 "nbformat_minor": 2
}
