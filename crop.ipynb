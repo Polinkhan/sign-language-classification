{
 "cells": [
  {
   "cell_type": "code",
   "execution_count": 85,
   "metadata": {},
   "outputs": [],
   "source": [
    "import os, cv2, numpy as np\n",
    "from ultralytics import YOLO\n",
    "from fastai.vision.all import *\n",
    "import matplotlib.pyplot as plt"
   ]
  },
  {
   "cell_type": "code",
   "execution_count": 86,
   "metadata": {},
   "outputs": [],
   "source": [
    "dir = os.path.join(os.getcwd(), 'Dataset', 'Test Data', 'V2')\n",
    "saveDir = os.path.join(os.getcwd(), 'custom_dataset')\n",
    "detectionModel = YOLO(os.path.join(os.getcwd(), 'models', 'detection.pt'))"
   ]
  },
  {
   "cell_type": "code",
   "execution_count": 87,
   "metadata": {},
   "outputs": [],
   "source": [
    "margin = 5\n",
    "def saveCroppedImage(img, name, size):\n",
    "    filename = os.path.join(saveDir, name)\n",
    "    resize_img = cv2.resize(img, (size, size))\n",
    "    return cv2.imwrite(filename, resize_img)\n"
   ]
  },
  {
   "cell_type": "code",
   "execution_count": 88,
   "metadata": {},
   "outputs": [],
   "source": [
    "# Plot Image\n",
    "def plotImage(images):\n",
    "    # Create subplots\n",
    "    fig, ax = plt.subplots(1, len(images), figsize=(18, 6))\n",
    "\n",
    "    # Plot the images\n",
    "    for i, img in enumerate(images):\n",
    "        ax[i].imshow(img)\n",
    "        ax[i].axis('off')\n",
    "        ax[i].set_title(f'Image {i+1}')\n",
    "\n",
    "    # Adjust spacing between subplots\n",
    "    plt.subplots_adjust(wspace=0.1)\n",
    "\n",
    "    # Show the plot\n",
    "    plt.show()\n"
   ]
  },
  {
   "cell_type": "code",
   "execution_count": 89,
   "metadata": {},
   "outputs": [],
   "source": [
    "def preProcessImageWithYolo(imagePath):\n",
    "\n",
    "    BGR_Image = cv2.imread(imagePath)\n",
    "    # binary_image = cv2.cvtColor(BGR_Image, cv2.COLOR_BGR2RGB)  # Convert BGR to RGB for matplotlib\n",
    "\n",
    "    results = detectionModel(imagePath)\n",
    "    # clear_output(wait=True)\n",
    "\n",
    "    for box in results[0].boxes.xyxy: \n",
    "        x1, y1, x2, y2 = map(int, box[:4])\n",
    "        cropped_img = BGR_Image[y1-5:y2+5, x1-5:x2+5]\n",
    "        # plotImage([binary_image, cropped_img])\n",
    "        return cropped_img"
   ]
  },
  {
   "cell_type": "code",
   "execution_count": null,
   "metadata": {},
   "outputs": [],
   "source": [
    "for _class in os.listdir(dir):\n",
    "    if(os.path.exists(os.path.join(saveDir, str(_class))) == False):\n",
    "        os.mkdir(os.path.join(saveDir, str(_class)))\n",
    "    current_dir = os.path.join(dir, _class)\n",
    "    for image in os.listdir(current_dir):\n",
    "        if(image.endswith(\".jpg\")):\n",
    "            imagePath = os.path.join(current_dir, image)\n",
    "            cropped_image = preProcessImageWithYolo(imagePath)\n",
    "            saveCroppedImage(cropped_image, _class+\"/\"+image, 256)\n"
   ]
  }
 ],
 "metadata": {
  "kernelspec": {
   "display_name": "ml",
   "language": "python",
   "name": "python3"
  },
  "language_info": {
   "codemirror_mode": {
    "name": "ipython",
    "version": 3
   },
   "file_extension": ".py",
   "mimetype": "text/x-python",
   "name": "python",
   "nbconvert_exporter": "python",
   "pygments_lexer": "ipython3",
   "version": "3.12.4"
  }
 },
 "nbformat": 4,
 "nbformat_minor": 2
}
